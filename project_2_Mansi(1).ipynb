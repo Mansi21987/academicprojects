{
 "cells": [
  {
   "cell_type": "markdown",
   "metadata": {
    "id": "pfWX0_lVTJlb"
   },
   "source": [
    "### Project 2: (10 points)\n",
    "##### Total (20 points) --> your total will divided by 2 to get 10 points."
   ]
  },
  {
   "cell_type": "markdown",
   "metadata": {
    "id": "hmPG6_GETJld"
   },
   "source": [
    "To demonstrate clustring, we will be use an adapted version of the glass dataset from the University of California – Irvine.\n",
    "This data contains 218 observations and 9 features corresponding to the percent weight of various oxides found in glass:\n",
    "\n",
    "* RI: refractive index\n",
    "* Na: weight percent in sodium\n",
    "* Mg: weight percent in magnesium\n",
    "* Al: weight percent in aluminum\n",
    "* Si: weight percent in silicon\n",
    "* K: weight percent in potassium\n",
    "* Ca: weight percent in calcium\n",
    "* Ba: weight percent in barium\n",
    "* Fe: weight percent in iron\n",
    "\n",
    "In this case study, we will use the refractive index (RI) and weight percent in each oxide to segment the glass type."
   ]
  },
  {
   "cell_type": "markdown",
   "metadata": {
    "id": "HRrKMRR4TJld"
   },
   "source": [
    "**Dataset:**\n",
    "You can find the dataset (glass.csv) under the datasets section on the Canvas."
   ]
  },
  {
   "cell_type": "markdown",
   "metadata": {
    "id": "wonQ9yepTJld"
   },
   "source": [
    "### Step to do:"
   ]
  },
  {
   "cell_type": "markdown",
   "metadata": {
    "id": "rEfYR7krTJle"
   },
   "source": [
    "        1. Importing Packages Required:"
   ]
  },
  {
   "cell_type": "code",
   "execution_count": 3,
   "metadata": {
    "id": "F1ke4eF0TJle"
   },
   "outputs": [],
   "source": [
    "#\n",
    "import warnings\n",
    "warnings.filterwarnings(\"ignore\")\n",
    "import pandas as pd\n",
    "import numpy as np\n",
    "import seaborn as sns\n",
    "from sklearn.utils import shuffle\n",
    "from sklearn.preprocessing import StandardScaler\n",
    "from scipy.cluster.hierarchy import linkage\n",
    "import matplotlib.pyplot as plt\n",
    "from scipy.cluster.hierarchy import dendrogram\n",
    "from sklearn.cluster import KMeans\n",
    "from sklearn.metrics import silhouette_score\n",
    "from sklearn.decomposition import PCA\n",
    "import numpy as np"
   ]
  },
  {
   "cell_type": "markdown",
   "metadata": {
    "id": "7vv2G38vTJlf"
   },
   "source": [
    "    2. Read the Data in the Memory."
   ]
  },
  {
   "cell_type": "code",
   "execution_count": 5,
   "metadata": {
    "id": "OQHeDS3nTJlf"
   },
   "outputs": [
    {
     "data": {
      "text/html": [
       "<div>\n",
       "<style scoped>\n",
       "    .dataframe tbody tr th:only-of-type {\n",
       "        vertical-align: middle;\n",
       "    }\n",
       "\n",
       "    .dataframe tbody tr th {\n",
       "        vertical-align: top;\n",
       "    }\n",
       "\n",
       "    .dataframe thead th {\n",
       "        text-align: right;\n",
       "    }\n",
       "</style>\n",
       "<table border=\"1\" class=\"dataframe\">\n",
       "  <thead>\n",
       "    <tr style=\"text-align: right;\">\n",
       "      <th></th>\n",
       "      <th>RI</th>\n",
       "      <th>Na</th>\n",
       "      <th>Mg</th>\n",
       "      <th>Al</th>\n",
       "      <th>Si</th>\n",
       "      <th>K</th>\n",
       "      <th>Ca</th>\n",
       "      <th>Ba</th>\n",
       "      <th>Fe</th>\n",
       "    </tr>\n",
       "  </thead>\n",
       "  <tbody>\n",
       "    <tr>\n",
       "      <th>0</th>\n",
       "      <td>1.52101</td>\n",
       "      <td>13.64</td>\n",
       "      <td>4.49</td>\n",
       "      <td>1.10</td>\n",
       "      <td>71.78</td>\n",
       "      <td>0.06</td>\n",
       "      <td>8.75</td>\n",
       "      <td>0.0</td>\n",
       "      <td>0.00</td>\n",
       "    </tr>\n",
       "    <tr>\n",
       "      <th>1</th>\n",
       "      <td>1.51761</td>\n",
       "      <td>13.89</td>\n",
       "      <td>3.60</td>\n",
       "      <td>1.36</td>\n",
       "      <td>72.73</td>\n",
       "      <td>0.48</td>\n",
       "      <td>7.83</td>\n",
       "      <td>0.0</td>\n",
       "      <td>0.00</td>\n",
       "    </tr>\n",
       "    <tr>\n",
       "      <th>2</th>\n",
       "      <td>1.51618</td>\n",
       "      <td>13.53</td>\n",
       "      <td>3.55</td>\n",
       "      <td>1.54</td>\n",
       "      <td>72.99</td>\n",
       "      <td>0.39</td>\n",
       "      <td>7.78</td>\n",
       "      <td>0.0</td>\n",
       "      <td>0.00</td>\n",
       "    </tr>\n",
       "    <tr>\n",
       "      <th>3</th>\n",
       "      <td>1.51766</td>\n",
       "      <td>13.21</td>\n",
       "      <td>3.69</td>\n",
       "      <td>1.29</td>\n",
       "      <td>72.61</td>\n",
       "      <td>0.57</td>\n",
       "      <td>8.22</td>\n",
       "      <td>0.0</td>\n",
       "      <td>0.00</td>\n",
       "    </tr>\n",
       "    <tr>\n",
       "      <th>4</th>\n",
       "      <td>1.51742</td>\n",
       "      <td>13.27</td>\n",
       "      <td>3.62</td>\n",
       "      <td>1.24</td>\n",
       "      <td>73.08</td>\n",
       "      <td>0.55</td>\n",
       "      <td>8.07</td>\n",
       "      <td>0.0</td>\n",
       "      <td>0.00</td>\n",
       "    </tr>\n",
       "    <tr>\n",
       "      <th>5</th>\n",
       "      <td>1.51596</td>\n",
       "      <td>12.79</td>\n",
       "      <td>3.61</td>\n",
       "      <td>1.62</td>\n",
       "      <td>72.97</td>\n",
       "      <td>0.64</td>\n",
       "      <td>8.07</td>\n",
       "      <td>0.0</td>\n",
       "      <td>0.26</td>\n",
       "    </tr>\n",
       "    <tr>\n",
       "      <th>6</th>\n",
       "      <td>1.51743</td>\n",
       "      <td>13.30</td>\n",
       "      <td>3.60</td>\n",
       "      <td>1.14</td>\n",
       "      <td>73.09</td>\n",
       "      <td>0.58</td>\n",
       "      <td>8.17</td>\n",
       "      <td>0.0</td>\n",
       "      <td>0.00</td>\n",
       "    </tr>\n",
       "    <tr>\n",
       "      <th>7</th>\n",
       "      <td>1.51756</td>\n",
       "      <td>13.15</td>\n",
       "      <td>3.61</td>\n",
       "      <td>1.05</td>\n",
       "      <td>73.24</td>\n",
       "      <td>0.57</td>\n",
       "      <td>8.24</td>\n",
       "      <td>0.0</td>\n",
       "      <td>0.00</td>\n",
       "    </tr>\n",
       "    <tr>\n",
       "      <th>8</th>\n",
       "      <td>1.51918</td>\n",
       "      <td>14.04</td>\n",
       "      <td>3.58</td>\n",
       "      <td>1.37</td>\n",
       "      <td>72.08</td>\n",
       "      <td>0.56</td>\n",
       "      <td>8.30</td>\n",
       "      <td>0.0</td>\n",
       "      <td>0.00</td>\n",
       "    </tr>\n",
       "    <tr>\n",
       "      <th>9</th>\n",
       "      <td>1.51755</td>\n",
       "      <td>13.00</td>\n",
       "      <td>3.60</td>\n",
       "      <td>1.36</td>\n",
       "      <td>72.99</td>\n",
       "      <td>0.57</td>\n",
       "      <td>8.40</td>\n",
       "      <td>0.0</td>\n",
       "      <td>0.11</td>\n",
       "    </tr>\n",
       "    <tr>\n",
       "      <th>10</th>\n",
       "      <td>1.51571</td>\n",
       "      <td>12.72</td>\n",
       "      <td>3.46</td>\n",
       "      <td>1.56</td>\n",
       "      <td>73.20</td>\n",
       "      <td>0.67</td>\n",
       "      <td>8.09</td>\n",
       "      <td>0.0</td>\n",
       "      <td>0.24</td>\n",
       "    </tr>\n",
       "    <tr>\n",
       "      <th>11</th>\n",
       "      <td>1.51763</td>\n",
       "      <td>12.80</td>\n",
       "      <td>3.66</td>\n",
       "      <td>1.27</td>\n",
       "      <td>73.01</td>\n",
       "      <td>0.60</td>\n",
       "      <td>8.56</td>\n",
       "      <td>0.0</td>\n",
       "      <td>0.00</td>\n",
       "    </tr>\n",
       "    <tr>\n",
       "      <th>12</th>\n",
       "      <td>1.51589</td>\n",
       "      <td>12.88</td>\n",
       "      <td>3.43</td>\n",
       "      <td>1.40</td>\n",
       "      <td>73.28</td>\n",
       "      <td>0.69</td>\n",
       "      <td>8.05</td>\n",
       "      <td>0.0</td>\n",
       "      <td>0.24</td>\n",
       "    </tr>\n",
       "    <tr>\n",
       "      <th>13</th>\n",
       "      <td>1.51748</td>\n",
       "      <td>12.86</td>\n",
       "      <td>3.56</td>\n",
       "      <td>1.27</td>\n",
       "      <td>73.21</td>\n",
       "      <td>0.54</td>\n",
       "      <td>8.38</td>\n",
       "      <td>0.0</td>\n",
       "      <td>0.17</td>\n",
       "    </tr>\n",
       "    <tr>\n",
       "      <th>14</th>\n",
       "      <td>1.51763</td>\n",
       "      <td>12.61</td>\n",
       "      <td>3.59</td>\n",
       "      <td>1.31</td>\n",
       "      <td>73.29</td>\n",
       "      <td>0.58</td>\n",
       "      <td>8.50</td>\n",
       "      <td>0.0</td>\n",
       "      <td>0.00</td>\n",
       "    </tr>\n",
       "  </tbody>\n",
       "</table>\n",
       "</div>"
      ],
      "text/plain": [
       "         RI     Na    Mg    Al     Si     K    Ca   Ba    Fe\n",
       "0   1.52101  13.64  4.49  1.10  71.78  0.06  8.75  0.0  0.00\n",
       "1   1.51761  13.89  3.60  1.36  72.73  0.48  7.83  0.0  0.00\n",
       "2   1.51618  13.53  3.55  1.54  72.99  0.39  7.78  0.0  0.00\n",
       "3   1.51766  13.21  3.69  1.29  72.61  0.57  8.22  0.0  0.00\n",
       "4   1.51742  13.27  3.62  1.24  73.08  0.55  8.07  0.0  0.00\n",
       "5   1.51596  12.79  3.61  1.62  72.97  0.64  8.07  0.0  0.26\n",
       "6   1.51743  13.30  3.60  1.14  73.09  0.58  8.17  0.0  0.00\n",
       "7   1.51756  13.15  3.61  1.05  73.24  0.57  8.24  0.0  0.00\n",
       "8   1.51918  14.04  3.58  1.37  72.08  0.56  8.30  0.0  0.00\n",
       "9   1.51755  13.00  3.60  1.36  72.99  0.57  8.40  0.0  0.11\n",
       "10  1.51571  12.72  3.46  1.56  73.20  0.67  8.09  0.0  0.24\n",
       "11  1.51763  12.80  3.66  1.27  73.01  0.60  8.56  0.0  0.00\n",
       "12  1.51589  12.88  3.43  1.40  73.28  0.69  8.05  0.0  0.24\n",
       "13  1.51748  12.86  3.56  1.27  73.21  0.54  8.38  0.0  0.17\n",
       "14  1.51763  12.61  3.59  1.31  73.29  0.58  8.50  0.0  0.00"
      ]
     },
     "execution_count": 5,
     "metadata": {},
     "output_type": "execute_result"
    }
   ],
   "source": [
    "df = pd.read_csv(\"glass.csv\")\n",
    "df.head(15)"
   ]
  },
  {
   "cell_type": "markdown",
   "metadata": {
    "id": "TCqBA6DhTJlf"
   },
   "source": [
    "    3. Print the Size of the Dataset and Printing the First Few Rows of the Dataset"
   ]
  },
  {
   "cell_type": "code",
   "execution_count": 14,
   "metadata": {},
   "outputs": [
    {
     "name": "stdout",
     "output_type": "stream",
     "text": [
      "The shape of the dateset: (218, 9)\n"
     ]
    }
   ],
   "source": [
    "print(\"The shape of the dateset:\", df.shape)"
   ]
  },
  {
   "cell_type": "code",
   "execution_count": 17,
   "metadata": {},
   "outputs": [
    {
     "data": {
      "text/html": [
       "<div>\n",
       "<style scoped>\n",
       "    .dataframe tbody tr th:only-of-type {\n",
       "        vertical-align: middle;\n",
       "    }\n",
       "\n",
       "    .dataframe tbody tr th {\n",
       "        vertical-align: top;\n",
       "    }\n",
       "\n",
       "    .dataframe thead th {\n",
       "        text-align: right;\n",
       "    }\n",
       "</style>\n",
       "<table border=\"1\" class=\"dataframe\">\n",
       "  <thead>\n",
       "    <tr style=\"text-align: right;\">\n",
       "      <th></th>\n",
       "      <th>RI</th>\n",
       "      <th>Na</th>\n",
       "      <th>Mg</th>\n",
       "      <th>Al</th>\n",
       "      <th>Si</th>\n",
       "      <th>K</th>\n",
       "      <th>Ca</th>\n",
       "      <th>Ba</th>\n",
       "      <th>Fe</th>\n",
       "    </tr>\n",
       "  </thead>\n",
       "  <tbody>\n",
       "    <tr>\n",
       "      <th>0</th>\n",
       "      <td>1.52101</td>\n",
       "      <td>13.64</td>\n",
       "      <td>4.49</td>\n",
       "      <td>1.10</td>\n",
       "      <td>71.78</td>\n",
       "      <td>0.06</td>\n",
       "      <td>8.75</td>\n",
       "      <td>0.0</td>\n",
       "      <td>0.00</td>\n",
       "    </tr>\n",
       "    <tr>\n",
       "      <th>1</th>\n",
       "      <td>1.51761</td>\n",
       "      <td>13.89</td>\n",
       "      <td>3.60</td>\n",
       "      <td>1.36</td>\n",
       "      <td>72.73</td>\n",
       "      <td>0.48</td>\n",
       "      <td>7.83</td>\n",
       "      <td>0.0</td>\n",
       "      <td>0.00</td>\n",
       "    </tr>\n",
       "    <tr>\n",
       "      <th>2</th>\n",
       "      <td>1.51618</td>\n",
       "      <td>13.53</td>\n",
       "      <td>3.55</td>\n",
       "      <td>1.54</td>\n",
       "      <td>72.99</td>\n",
       "      <td>0.39</td>\n",
       "      <td>7.78</td>\n",
       "      <td>0.0</td>\n",
       "      <td>0.00</td>\n",
       "    </tr>\n",
       "    <tr>\n",
       "      <th>3</th>\n",
       "      <td>1.51766</td>\n",
       "      <td>13.21</td>\n",
       "      <td>3.69</td>\n",
       "      <td>1.29</td>\n",
       "      <td>72.61</td>\n",
       "      <td>0.57</td>\n",
       "      <td>8.22</td>\n",
       "      <td>0.0</td>\n",
       "      <td>0.00</td>\n",
       "    </tr>\n",
       "    <tr>\n",
       "      <th>4</th>\n",
       "      <td>1.51742</td>\n",
       "      <td>13.27</td>\n",
       "      <td>3.62</td>\n",
       "      <td>1.24</td>\n",
       "      <td>73.08</td>\n",
       "      <td>0.55</td>\n",
       "      <td>8.07</td>\n",
       "      <td>0.0</td>\n",
       "      <td>0.00</td>\n",
       "    </tr>\n",
       "    <tr>\n",
       "      <th>5</th>\n",
       "      <td>1.51596</td>\n",
       "      <td>12.79</td>\n",
       "      <td>3.61</td>\n",
       "      <td>1.62</td>\n",
       "      <td>72.97</td>\n",
       "      <td>0.64</td>\n",
       "      <td>8.07</td>\n",
       "      <td>0.0</td>\n",
       "      <td>0.26</td>\n",
       "    </tr>\n",
       "    <tr>\n",
       "      <th>6</th>\n",
       "      <td>1.51743</td>\n",
       "      <td>13.30</td>\n",
       "      <td>3.60</td>\n",
       "      <td>1.14</td>\n",
       "      <td>73.09</td>\n",
       "      <td>0.58</td>\n",
       "      <td>8.17</td>\n",
       "      <td>0.0</td>\n",
       "      <td>0.00</td>\n",
       "    </tr>\n",
       "    <tr>\n",
       "      <th>7</th>\n",
       "      <td>1.51756</td>\n",
       "      <td>13.15</td>\n",
       "      <td>3.61</td>\n",
       "      <td>1.05</td>\n",
       "      <td>73.24</td>\n",
       "      <td>0.57</td>\n",
       "      <td>8.24</td>\n",
       "      <td>0.0</td>\n",
       "      <td>0.00</td>\n",
       "    </tr>\n",
       "    <tr>\n",
       "      <th>8</th>\n",
       "      <td>1.51918</td>\n",
       "      <td>14.04</td>\n",
       "      <td>3.58</td>\n",
       "      <td>1.37</td>\n",
       "      <td>72.08</td>\n",
       "      <td>0.56</td>\n",
       "      <td>8.30</td>\n",
       "      <td>0.0</td>\n",
       "      <td>0.00</td>\n",
       "    </tr>\n",
       "    <tr>\n",
       "      <th>9</th>\n",
       "      <td>1.51755</td>\n",
       "      <td>13.00</td>\n",
       "      <td>3.60</td>\n",
       "      <td>1.36</td>\n",
       "      <td>72.99</td>\n",
       "      <td>0.57</td>\n",
       "      <td>8.40</td>\n",
       "      <td>0.0</td>\n",
       "      <td>0.11</td>\n",
       "    </tr>\n",
       "    <tr>\n",
       "      <th>10</th>\n",
       "      <td>1.51571</td>\n",
       "      <td>12.72</td>\n",
       "      <td>3.46</td>\n",
       "      <td>1.56</td>\n",
       "      <td>73.20</td>\n",
       "      <td>0.67</td>\n",
       "      <td>8.09</td>\n",
       "      <td>0.0</td>\n",
       "      <td>0.24</td>\n",
       "    </tr>\n",
       "    <tr>\n",
       "      <th>11</th>\n",
       "      <td>1.51763</td>\n",
       "      <td>12.80</td>\n",
       "      <td>3.66</td>\n",
       "      <td>1.27</td>\n",
       "      <td>73.01</td>\n",
       "      <td>0.60</td>\n",
       "      <td>8.56</td>\n",
       "      <td>0.0</td>\n",
       "      <td>0.00</td>\n",
       "    </tr>\n",
       "    <tr>\n",
       "      <th>12</th>\n",
       "      <td>1.51589</td>\n",
       "      <td>12.88</td>\n",
       "      <td>3.43</td>\n",
       "      <td>1.40</td>\n",
       "      <td>73.28</td>\n",
       "      <td>0.69</td>\n",
       "      <td>8.05</td>\n",
       "      <td>0.0</td>\n",
       "      <td>0.24</td>\n",
       "    </tr>\n",
       "    <tr>\n",
       "      <th>13</th>\n",
       "      <td>1.51748</td>\n",
       "      <td>12.86</td>\n",
       "      <td>3.56</td>\n",
       "      <td>1.27</td>\n",
       "      <td>73.21</td>\n",
       "      <td>0.54</td>\n",
       "      <td>8.38</td>\n",
       "      <td>0.0</td>\n",
       "      <td>0.17</td>\n",
       "    </tr>\n",
       "    <tr>\n",
       "      <th>14</th>\n",
       "      <td>1.51763</td>\n",
       "      <td>12.61</td>\n",
       "      <td>3.59</td>\n",
       "      <td>1.31</td>\n",
       "      <td>73.29</td>\n",
       "      <td>0.58</td>\n",
       "      <td>8.50</td>\n",
       "      <td>0.0</td>\n",
       "      <td>0.00</td>\n",
       "    </tr>\n",
       "  </tbody>\n",
       "</table>\n",
       "</div>"
      ],
      "text/plain": [
       "         RI     Na    Mg    Al     Si     K    Ca   Ba    Fe\n",
       "0   1.52101  13.64  4.49  1.10  71.78  0.06  8.75  0.0  0.00\n",
       "1   1.51761  13.89  3.60  1.36  72.73  0.48  7.83  0.0  0.00\n",
       "2   1.51618  13.53  3.55  1.54  72.99  0.39  7.78  0.0  0.00\n",
       "3   1.51766  13.21  3.69  1.29  72.61  0.57  8.22  0.0  0.00\n",
       "4   1.51742  13.27  3.62  1.24  73.08  0.55  8.07  0.0  0.00\n",
       "5   1.51596  12.79  3.61  1.62  72.97  0.64  8.07  0.0  0.26\n",
       "6   1.51743  13.30  3.60  1.14  73.09  0.58  8.17  0.0  0.00\n",
       "7   1.51756  13.15  3.61  1.05  73.24  0.57  8.24  0.0  0.00\n",
       "8   1.51918  14.04  3.58  1.37  72.08  0.56  8.30  0.0  0.00\n",
       "9   1.51755  13.00  3.60  1.36  72.99  0.57  8.40  0.0  0.11\n",
       "10  1.51571  12.72  3.46  1.56  73.20  0.67  8.09  0.0  0.24\n",
       "11  1.51763  12.80  3.66  1.27  73.01  0.60  8.56  0.0  0.00\n",
       "12  1.51589  12.88  3.43  1.40  73.28  0.69  8.05  0.0  0.24\n",
       "13  1.51748  12.86  3.56  1.27  73.21  0.54  8.38  0.0  0.17\n",
       "14  1.51763  12.61  3.59  1.31  73.29  0.58  8.50  0.0  0.00"
      ]
     },
     "execution_count": 17,
     "metadata": {},
     "output_type": "execute_result"
    }
   ],
   "source": [
    "df.head(15)"
   ]
  },
  {
   "cell_type": "markdown",
   "metadata": {
    "id": "62l9wUiZTJlf"
   },
   "source": [
    "    4. Look for some basic data frame information  ( 1 point)"
   ]
  },
  {
   "cell_type": "code",
   "execution_count": 18,
   "metadata": {
    "id": "8lJHSXJqTJlf"
   },
   "outputs": [
    {
     "name": "stdout",
     "output_type": "stream",
     "text": [
      "<class 'pandas.core.frame.DataFrame'>\n",
      "RangeIndex: 218 entries, 0 to 217\n",
      "Data columns (total 9 columns):\n",
      " #   Column  Non-Null Count  Dtype  \n",
      "---  ------  --------------  -----  \n",
      " 0   RI      218 non-null    float64\n",
      " 1   Na      218 non-null    float64\n",
      " 2   Mg      218 non-null    float64\n",
      " 3   Al      218 non-null    float64\n",
      " 4   Si      218 non-null    float64\n",
      " 5   K       218 non-null    float64\n",
      " 6   Ca      218 non-null    float64\n",
      " 7   Ba      218 non-null    float64\n",
      " 8   Fe      218 non-null    float64\n",
      "dtypes: float64(9)\n",
      "memory usage: 15.5 KB\n"
     ]
    }
   ],
   "source": [
    "df.info()"
   ]
  },
  {
   "cell_type": "code",
   "execution_count": 19,
   "metadata": {},
   "outputs": [
    {
     "data": {
      "text/html": [
       "<div>\n",
       "<style scoped>\n",
       "    .dataframe tbody tr th:only-of-type {\n",
       "        vertical-align: middle;\n",
       "    }\n",
       "\n",
       "    .dataframe tbody tr th {\n",
       "        vertical-align: top;\n",
       "    }\n",
       "\n",
       "    .dataframe thead th {\n",
       "        text-align: right;\n",
       "    }\n",
       "</style>\n",
       "<table border=\"1\" class=\"dataframe\">\n",
       "  <thead>\n",
       "    <tr style=\"text-align: right;\">\n",
       "      <th></th>\n",
       "      <th>RI</th>\n",
       "      <th>Na</th>\n",
       "      <th>Mg</th>\n",
       "      <th>Al</th>\n",
       "      <th>Si</th>\n",
       "      <th>K</th>\n",
       "      <th>Ca</th>\n",
       "      <th>Ba</th>\n",
       "      <th>Fe</th>\n",
       "    </tr>\n",
       "  </thead>\n",
       "  <tbody>\n",
       "    <tr>\n",
       "      <th>count</th>\n",
       "      <td>218.000000</td>\n",
       "      <td>218.000000</td>\n",
       "      <td>218.000000</td>\n",
       "      <td>218.000000</td>\n",
       "      <td>218.00000</td>\n",
       "      <td>218.000000</td>\n",
       "      <td>218.000000</td>\n",
       "      <td>218.000000</td>\n",
       "      <td>218.000000</td>\n",
       "    </tr>\n",
       "    <tr>\n",
       "      <th>mean</th>\n",
       "      <td>1.518109</td>\n",
       "      <td>13.599037</td>\n",
       "      <td>2.330505</td>\n",
       "      <td>1.570367</td>\n",
       "      <td>72.74555</td>\n",
       "      <td>0.431468</td>\n",
       "      <td>8.799083</td>\n",
       "      <td>0.364358</td>\n",
       "      <td>0.049679</td>\n",
       "    </tr>\n",
       "    <tr>\n",
       "      <th>std</th>\n",
       "      <td>0.003002</td>\n",
       "      <td>0.873300</td>\n",
       "      <td>1.643503</td>\n",
       "      <td>0.539291</td>\n",
       "      <td>0.76070</td>\n",
       "      <td>0.435318</td>\n",
       "      <td>1.307588</td>\n",
       "      <td>0.647118</td>\n",
       "      <td>0.086666</td>\n",
       "    </tr>\n",
       "    <tr>\n",
       "      <th>min</th>\n",
       "      <td>1.511310</td>\n",
       "      <td>10.730000</td>\n",
       "      <td>0.000000</td>\n",
       "      <td>0.290000</td>\n",
       "      <td>69.81000</td>\n",
       "      <td>0.000000</td>\n",
       "      <td>5.430000</td>\n",
       "      <td>0.000000</td>\n",
       "      <td>0.000000</td>\n",
       "    </tr>\n",
       "    <tr>\n",
       "      <th>25%</th>\n",
       "      <td>1.516333</td>\n",
       "      <td>12.990000</td>\n",
       "      <td>0.000000</td>\n",
       "      <td>1.230000</td>\n",
       "      <td>72.39250</td>\n",
       "      <td>0.052500</td>\n",
       "      <td>8.270000</td>\n",
       "      <td>0.000000</td>\n",
       "      <td>0.000000</td>\n",
       "    </tr>\n",
       "    <tr>\n",
       "      <th>50%</th>\n",
       "      <td>1.517390</td>\n",
       "      <td>13.440000</td>\n",
       "      <td>3.430000</td>\n",
       "      <td>1.445000</td>\n",
       "      <td>72.90500</td>\n",
       "      <td>0.540000</td>\n",
       "      <td>8.590000</td>\n",
       "      <td>0.000000</td>\n",
       "      <td>0.000000</td>\n",
       "    </tr>\n",
       "    <tr>\n",
       "      <th>75%</th>\n",
       "      <td>1.518467</td>\n",
       "      <td>14.320000</td>\n",
       "      <td>3.580000</td>\n",
       "      <td>1.930000</td>\n",
       "      <td>73.13500</td>\n",
       "      <td>0.610000</td>\n",
       "      <td>9.015000</td>\n",
       "      <td>0.610000</td>\n",
       "      <td>0.090000</td>\n",
       "    </tr>\n",
       "    <tr>\n",
       "      <th>max</th>\n",
       "      <td>1.533930</td>\n",
       "      <td>15.790000</td>\n",
       "      <td>4.490000</td>\n",
       "      <td>2.880000</td>\n",
       "      <td>75.18000</td>\n",
       "      <td>2.700000</td>\n",
       "      <td>16.190000</td>\n",
       "      <td>3.150000</td>\n",
       "      <td>0.350000</td>\n",
       "    </tr>\n",
       "  </tbody>\n",
       "</table>\n",
       "</div>"
      ],
      "text/plain": [
       "               RI          Na          Mg          Al         Si           K  \\\n",
       "count  218.000000  218.000000  218.000000  218.000000  218.00000  218.000000   \n",
       "mean     1.518109   13.599037    2.330505    1.570367   72.74555    0.431468   \n",
       "std      0.003002    0.873300    1.643503    0.539291    0.76070    0.435318   \n",
       "min      1.511310   10.730000    0.000000    0.290000   69.81000    0.000000   \n",
       "25%      1.516333   12.990000    0.000000    1.230000   72.39250    0.052500   \n",
       "50%      1.517390   13.440000    3.430000    1.445000   72.90500    0.540000   \n",
       "75%      1.518467   14.320000    3.580000    1.930000   73.13500    0.610000   \n",
       "max      1.533930   15.790000    4.490000    2.880000   75.18000    2.700000   \n",
       "\n",
       "               Ca          Ba          Fe  \n",
       "count  218.000000  218.000000  218.000000  \n",
       "mean     8.799083    0.364358    0.049679  \n",
       "std      1.307588    0.647118    0.086666  \n",
       "min      5.430000    0.000000    0.000000  \n",
       "25%      8.270000    0.000000    0.000000  \n",
       "50%      8.590000    0.000000    0.000000  \n",
       "75%      9.015000    0.610000    0.090000  \n",
       "max     16.190000    3.150000    0.350000  "
      ]
     },
     "execution_count": 19,
     "metadata": {},
     "output_type": "execute_result"
    }
   ],
   "source": [
    "df.describe()"
   ]
  },
  {
   "cell_type": "code",
   "execution_count": 20,
   "metadata": {},
   "outputs": [
    {
     "data": {
      "text/plain": [
       "RI    float64\n",
       "Na    float64\n",
       "Mg    float64\n",
       "Al    float64\n",
       "Si    float64\n",
       "K     float64\n",
       "Ca    float64\n",
       "Ba    float64\n",
       "Fe    float64\n",
       "dtype: object"
      ]
     },
     "execution_count": 20,
     "metadata": {},
     "output_type": "execute_result"
    }
   ],
   "source": [
    "df.dtypes"
   ]
  },
  {
   "cell_type": "markdown",
   "metadata": {
    "id": "FIeKbfDVTJlg"
   },
   "source": [
    "    5. Remove any possible order effects in the data by shuffle the rows prior to building any models and save it as a new data frame object.  ( 1 point)\n"
   ]
  },
  {
   "cell_type": "code",
   "execution_count": 26,
   "metadata": {
    "id": "wowZRaIATJlg"
   },
   "outputs": [
    {
     "name": "stdout",
     "output_type": "stream",
     "text": [
      "          RI     Na    Mg    Al     Si     K    Ca    Ba    Fe\n",
      "100  1.51655  12.75  2.85  1.44  73.27  0.57  8.79  0.11  0.22\n",
      "215  1.51640  14.37  0.00  2.74  72.85  0.00  9.45  0.54  0.00\n",
      "139  1.51674  12.87  3.56  1.64  73.14  0.65  7.99  0.00  0.00\n",
      "178  1.52247  14.86  2.20  2.06  70.26  0.76  9.76  0.00  0.00\n",
      "15   1.51761  12.81  3.54  1.23  73.24  0.58  8.39  0.00  0.00\n",
      "154  1.51719  14.75  0.00  2.00  73.02  0.00  8.53  1.59  0.08\n",
      "170  1.51623  14.14  0.00  2.88  72.61  0.08  9.18  1.06  0.00\n",
      "73   1.51631  13.34  3.57  1.57  72.87  0.61  7.89  0.00  0.00\n",
      "207  1.51508  15.15  0.00  2.25  73.50  0.00  8.34  0.63  0.00\n",
      "140  1.51690  13.33  3.54  1.61  72.54  0.68  8.11  0.00  0.00\n",
      "189  1.51609  15.01  0.00  2.51  73.05  0.05  8.83  0.53  0.00\n",
      "30   1.51768  12.65  3.56  1.30  73.08  0.61  8.69  0.00  0.14\n",
      "211  1.51617  14.95  0.00  2.27  73.30  0.00  8.71  0.67  0.00\n",
      "9    1.51755  13.00  3.60  1.36  72.99  0.57  8.40  0.00  0.11\n",
      "67   1.52152  13.05  3.65  0.87  72.32  0.19  9.85  0.00  0.17\n"
     ]
    },
    {
     "data": {
      "text/html": [
       "<div>\n",
       "<style scoped>\n",
       "    .dataframe tbody tr th:only-of-type {\n",
       "        vertical-align: middle;\n",
       "    }\n",
       "\n",
       "    .dataframe tbody tr th {\n",
       "        vertical-align: top;\n",
       "    }\n",
       "\n",
       "    .dataframe thead th {\n",
       "        text-align: right;\n",
       "    }\n",
       "</style>\n",
       "<table border=\"1\" class=\"dataframe\">\n",
       "  <thead>\n",
       "    <tr style=\"text-align: right;\">\n",
       "      <th></th>\n",
       "      <th>RI</th>\n",
       "      <th>Na</th>\n",
       "      <th>Mg</th>\n",
       "      <th>Al</th>\n",
       "      <th>Si</th>\n",
       "      <th>K</th>\n",
       "      <th>Ca</th>\n",
       "      <th>Ba</th>\n",
       "      <th>Fe</th>\n",
       "    </tr>\n",
       "  </thead>\n",
       "  <tbody>\n",
       "    <tr>\n",
       "      <th>0</th>\n",
       "      <td>1.51655</td>\n",
       "      <td>12.75</td>\n",
       "      <td>2.85</td>\n",
       "      <td>1.44</td>\n",
       "      <td>73.27</td>\n",
       "      <td>0.57</td>\n",
       "      <td>8.79</td>\n",
       "      <td>0.11</td>\n",
       "      <td>0.22</td>\n",
       "    </tr>\n",
       "    <tr>\n",
       "      <th>1</th>\n",
       "      <td>1.51640</td>\n",
       "      <td>14.37</td>\n",
       "      <td>0.00</td>\n",
       "      <td>2.74</td>\n",
       "      <td>72.85</td>\n",
       "      <td>0.00</td>\n",
       "      <td>9.45</td>\n",
       "      <td>0.54</td>\n",
       "      <td>0.00</td>\n",
       "    </tr>\n",
       "    <tr>\n",
       "      <th>2</th>\n",
       "      <td>1.51674</td>\n",
       "      <td>12.87</td>\n",
       "      <td>3.56</td>\n",
       "      <td>1.64</td>\n",
       "      <td>73.14</td>\n",
       "      <td>0.65</td>\n",
       "      <td>7.99</td>\n",
       "      <td>0.00</td>\n",
       "      <td>0.00</td>\n",
       "    </tr>\n",
       "    <tr>\n",
       "      <th>3</th>\n",
       "      <td>1.52247</td>\n",
       "      <td>14.86</td>\n",
       "      <td>2.20</td>\n",
       "      <td>2.06</td>\n",
       "      <td>70.26</td>\n",
       "      <td>0.76</td>\n",
       "      <td>9.76</td>\n",
       "      <td>0.00</td>\n",
       "      <td>0.00</td>\n",
       "    </tr>\n",
       "    <tr>\n",
       "      <th>4</th>\n",
       "      <td>1.51761</td>\n",
       "      <td>12.81</td>\n",
       "      <td>3.54</td>\n",
       "      <td>1.23</td>\n",
       "      <td>73.24</td>\n",
       "      <td>0.58</td>\n",
       "      <td>8.39</td>\n",
       "      <td>0.00</td>\n",
       "      <td>0.00</td>\n",
       "    </tr>\n",
       "  </tbody>\n",
       "</table>\n",
       "</div>"
      ],
      "text/plain": [
       "        RI     Na    Mg    Al     Si     K    Ca    Ba    Fe\n",
       "0  1.51655  12.75  2.85  1.44  73.27  0.57  8.79  0.11  0.22\n",
       "1  1.51640  14.37  0.00  2.74  72.85  0.00  9.45  0.54  0.00\n",
       "2  1.51674  12.87  3.56  1.64  73.14  0.65  7.99  0.00  0.00\n",
       "3  1.52247  14.86  2.20  2.06  70.26  0.76  9.76  0.00  0.00\n",
       "4  1.51761  12.81  3.54  1.23  73.24  0.58  8.39  0.00  0.00"
      ]
     },
     "execution_count": 26,
     "metadata": {},
     "output_type": "execute_result"
    }
   ],
   "source": [
    "# Shuffle the rows\n",
    "df_shuffled = df.sample(frac=1, random_state=42)  # You can set a random_state for reproducibility\n",
    "\n",
    "# Save the shuffled DataFrame as a new object or overwrite the original DataFrame\n",
    "df_shuffled.to_csv('shuffled_data.csv', index=False)  # Save it to a CSV file, for example\n",
    "\n",
    "print(df_shuffled.head(15))\n",
    "df_shuffled = df_shuffled.reset_index(drop=True)\n",
    "df_shuffled.head(5)"
   ]
  },
  {
   "cell_type": "markdown",
   "metadata": {
    "id": "tQOYchbRTJlg"
   },
   "source": [
    "    6. Transform each observation into a z-score  ( 1 point)"
   ]
  },
  {
   "cell_type": "code",
   "execution_count": 28,
   "metadata": {
    "id": "-ErC2lSSTJlg"
   },
   "outputs": [
    {
     "data": {
      "text/html": [
       "<div>\n",
       "<style scoped>\n",
       "    .dataframe tbody tr th:only-of-type {\n",
       "        vertical-align: middle;\n",
       "    }\n",
       "\n",
       "    .dataframe tbody tr th {\n",
       "        vertical-align: top;\n",
       "    }\n",
       "\n",
       "    .dataframe thead th {\n",
       "        text-align: right;\n",
       "    }\n",
       "</style>\n",
       "<table border=\"1\" class=\"dataframe\">\n",
       "  <thead>\n",
       "    <tr style=\"text-align: right;\">\n",
       "      <th></th>\n",
       "      <th>RI</th>\n",
       "      <th>Na</th>\n",
       "      <th>Mg</th>\n",
       "      <th>Al</th>\n",
       "      <th>Si</th>\n",
       "      <th>K</th>\n",
       "      <th>Ca</th>\n",
       "      <th>Ba</th>\n",
       "      <th>Fe</th>\n",
       "    </tr>\n",
       "  </thead>\n",
       "  <tbody>\n",
       "    <tr>\n",
       "      <th>0</th>\n",
       "      <td>-0.519340</td>\n",
       "      <td>-0.972217</td>\n",
       "      <td>0.316090</td>\n",
       "      <td>-0.241738</td>\n",
       "      <td>0.689430</td>\n",
       "      <td>0.318232</td>\n",
       "      <td>-0.006946</td>\n",
       "      <td>-0.393063</td>\n",
       "      <td>1.965264</td>\n",
       "    </tr>\n",
       "    <tr>\n",
       "      <th>1</th>\n",
       "      <td>-0.569309</td>\n",
       "      <td>0.882817</td>\n",
       "      <td>-1.418010</td>\n",
       "      <td>2.168834</td>\n",
       "      <td>0.137307</td>\n",
       "      <td>-0.991155</td>\n",
       "      <td>0.497800</td>\n",
       "      <td>0.271422</td>\n",
       "      <td>-0.573224</td>\n",
       "    </tr>\n",
       "    <tr>\n",
       "      <th>2</th>\n",
       "      <td>-0.456046</td>\n",
       "      <td>-0.834807</td>\n",
       "      <td>0.748094</td>\n",
       "      <td>0.129120</td>\n",
       "      <td>0.518535</td>\n",
       "      <td>0.502005</td>\n",
       "      <td>-0.618759</td>\n",
       "      <td>-0.563047</td>\n",
       "      <td>-0.573224</td>\n",
       "    </tr>\n",
       "    <tr>\n",
       "      <th>3</th>\n",
       "      <td>1.452765</td>\n",
       "      <td>1.443907</td>\n",
       "      <td>-0.079406</td>\n",
       "      <td>0.907920</td>\n",
       "      <td>-3.267452</td>\n",
       "      <td>0.754694</td>\n",
       "      <td>0.734878</td>\n",
       "      <td>-0.563047</td>\n",
       "      <td>-0.573224</td>\n",
       "    </tr>\n",
       "    <tr>\n",
       "      <th>4</th>\n",
       "      <td>-0.166227</td>\n",
       "      <td>-0.903512</td>\n",
       "      <td>0.735925</td>\n",
       "      <td>-0.631138</td>\n",
       "      <td>0.649993</td>\n",
       "      <td>0.341203</td>\n",
       "      <td>-0.312853</td>\n",
       "      <td>-0.563047</td>\n",
       "      <td>-0.573224</td>\n",
       "    </tr>\n",
       "  </tbody>\n",
       "</table>\n",
       "</div>"
      ],
      "text/plain": [
       "         RI        Na        Mg        Al        Si         K        Ca  \\\n",
       "0 -0.519340 -0.972217  0.316090 -0.241738  0.689430  0.318232 -0.006946   \n",
       "1 -0.569309  0.882817 -1.418010  2.168834  0.137307 -0.991155  0.497800   \n",
       "2 -0.456046 -0.834807  0.748094  0.129120  0.518535  0.502005 -0.618759   \n",
       "3  1.452765  1.443907 -0.079406  0.907920 -3.267452  0.754694  0.734878   \n",
       "4 -0.166227 -0.903512  0.735925 -0.631138  0.649993  0.341203 -0.312853   \n",
       "\n",
       "         Ba        Fe  \n",
       "0 -0.393063  1.965264  \n",
       "1  0.271422 -0.573224  \n",
       "2 -0.563047 -0.573224  \n",
       "3 -0.563047 -0.573224  \n",
       "4 -0.563047 -0.573224  "
      ]
     },
     "execution_count": 28,
     "metadata": {},
     "output_type": "execute_result"
    }
   ],
   "source": [
    "from scipy.stats import zscore\n",
    "# Calculate the z-scores for each observation using mean and std\n",
    "df_zscored = (df_shuffled - df_shuffled.mean()) / df_shuffled.std()\n",
    "df_zscored.head(5)"
   ]
  },
  {
   "cell_type": "code",
   "execution_count": 29,
   "metadata": {},
   "outputs": [
    {
     "data": {
      "text/html": [
       "<div>\n",
       "<style scoped>\n",
       "    .dataframe tbody tr th:only-of-type {\n",
       "        vertical-align: middle;\n",
       "    }\n",
       "\n",
       "    .dataframe tbody tr th {\n",
       "        vertical-align: top;\n",
       "    }\n",
       "\n",
       "    .dataframe thead th {\n",
       "        text-align: right;\n",
       "    }\n",
       "</style>\n",
       "<table border=\"1\" class=\"dataframe\">\n",
       "  <thead>\n",
       "    <tr style=\"text-align: right;\">\n",
       "      <th></th>\n",
       "      <th>RI</th>\n",
       "      <th>Na</th>\n",
       "      <th>Mg</th>\n",
       "      <th>Al</th>\n",
       "      <th>Si</th>\n",
       "      <th>K</th>\n",
       "      <th>Ca</th>\n",
       "      <th>Ba</th>\n",
       "      <th>Fe</th>\n",
       "    </tr>\n",
       "  </thead>\n",
       "  <tbody>\n",
       "    <tr>\n",
       "      <th>0</th>\n",
       "      <td>-0.519340</td>\n",
       "      <td>-0.972217</td>\n",
       "      <td>0.316090</td>\n",
       "      <td>-0.241738</td>\n",
       "      <td>0.689430</td>\n",
       "      <td>0.318232</td>\n",
       "      <td>-0.006946</td>\n",
       "      <td>-0.393063</td>\n",
       "      <td>1.965264</td>\n",
       "    </tr>\n",
       "    <tr>\n",
       "      <th>1</th>\n",
       "      <td>-0.569309</td>\n",
       "      <td>0.882817</td>\n",
       "      <td>-1.418010</td>\n",
       "      <td>2.168834</td>\n",
       "      <td>0.137307</td>\n",
       "      <td>-0.991155</td>\n",
       "      <td>0.497800</td>\n",
       "      <td>0.271422</td>\n",
       "      <td>-0.573224</td>\n",
       "    </tr>\n",
       "    <tr>\n",
       "      <th>2</th>\n",
       "      <td>-0.456046</td>\n",
       "      <td>-0.834807</td>\n",
       "      <td>0.748094</td>\n",
       "      <td>0.129120</td>\n",
       "      <td>0.518535</td>\n",
       "      <td>0.502005</td>\n",
       "      <td>-0.618759</td>\n",
       "      <td>-0.563047</td>\n",
       "      <td>-0.573224</td>\n",
       "    </tr>\n",
       "    <tr>\n",
       "      <th>3</th>\n",
       "      <td>1.452765</td>\n",
       "      <td>1.443907</td>\n",
       "      <td>-0.079406</td>\n",
       "      <td>0.907920</td>\n",
       "      <td>-3.267452</td>\n",
       "      <td>0.754694</td>\n",
       "      <td>0.734878</td>\n",
       "      <td>-0.563047</td>\n",
       "      <td>-0.573224</td>\n",
       "    </tr>\n",
       "    <tr>\n",
       "      <th>4</th>\n",
       "      <td>-0.166227</td>\n",
       "      <td>-0.903512</td>\n",
       "      <td>0.735925</td>\n",
       "      <td>-0.631138</td>\n",
       "      <td>0.649993</td>\n",
       "      <td>0.341203</td>\n",
       "      <td>-0.312853</td>\n",
       "      <td>-0.563047</td>\n",
       "      <td>-0.573224</td>\n",
       "    </tr>\n",
       "  </tbody>\n",
       "</table>\n",
       "</div>"
      ],
      "text/plain": [
       "         RI        Na        Mg        Al        Si         K        Ca  \\\n",
       "0 -0.519340 -0.972217  0.316090 -0.241738  0.689430  0.318232 -0.006946   \n",
       "1 -0.569309  0.882817 -1.418010  2.168834  0.137307 -0.991155  0.497800   \n",
       "2 -0.456046 -0.834807  0.748094  0.129120  0.518535  0.502005 -0.618759   \n",
       "3  1.452765  1.443907 -0.079406  0.907920 -3.267452  0.754694  0.734878   \n",
       "4 -0.166227 -0.903512  0.735925 -0.631138  0.649993  0.341203 -0.312853   \n",
       "\n",
       "         Ba        Fe  \n",
       "0 -0.393063  1.965264  \n",
       "1  0.271422 -0.573224  \n",
       "2 -0.563047 -0.573224  \n",
       "3 -0.563047 -0.573224  \n",
       "4 -0.563047 -0.573224  "
      ]
     },
     "execution_count": 29,
     "metadata": {},
     "output_type": "execute_result"
    }
   ],
   "source": [
    "# Calculate the z-scores for each observation\n",
    "df_zscored1 = df_shuffled.apply(zscore)\n",
    "df_zscored.head(5)"
   ]
  },
  {
   "cell_type": "markdown",
   "metadata": {
    "id": "ZPRdUNfbTJlg"
   },
   "source": [
    "    7. Perform hierarchical clustering using the linkage function on scaled_features with complete method.  ( 1 point)"
   ]
  },
  {
   "cell_type": "code",
   "execution_count": 30,
   "metadata": {
    "id": "wW2VGlKQTJlg"
   },
   "outputs": [],
   "source": [
    "# create linkage model\n",
    "# Calculate the linkage matrix using complete method\n",
    "linkage_matrix = linkage(df_zscored, method='complete')"
   ]
  },
  {
   "cell_type": "markdown",
   "metadata": {
    "id": "dIij1F5NTJlg"
   },
   "source": [
    "Now that the HCA model has been built, we will continue with the analysis by visualizing clusters using a dendrogram and using the visualization to generate predictions."
   ]
  },
  {
   "cell_type": "markdown",
   "metadata": {
    "id": "zFBumJW1TJlg"
   },
   "source": [
    "    8. Display the dendrogram by plotting the HCA model:  ( 1 point)\n",
    "    - the leaf_rotation is 90 and , leaf_font_size is 6"
   ]
  },
  {
   "cell_type": "code",
   "execution_count": 32,
   "metadata": {
    "id": "jO3hiLPkTJlh"
   },
   "outputs": [
    {
     "data": {
      "image/png": "[encoded data removed]",
      "text/plain": [
       "<Figure size 1000x500 with 1 Axes>"
      ]
     },
     "metadata": {},
     "output_type": "display_data"
    }
   ],
   "source": [
    "# plot dendrogram:\n",
    "\n",
    "plt.figure(figsize=(10,5))\n",
    "plt.title('Dendrogram for Glass Data')\n",
    "dendrogram(linkage_matrix, labels=df_zscored.index, leaf_rotation=90, leaf_font_size=8)\n",
    "plt.xlabel('Observation Index')\n",
    "plt.ylabel('Distance')\n",
    "plt.show()"
   ]
  },
  {
   "cell_type": "markdown",
   "metadata": {
    "id": "b4MREAkETJlh"
   },
   "source": [
    "    9. interpret the HCA dendrogram,  ( 1 point)"
   ]
  },
  {
   "cell_type": "markdown",
   "metadata": {
    "id": "_Uj4ah0dTJlh"
   },
   "source": [
    "utilizing HCA clusters our data into three groups"
   ]
  },
  {
   "cell_type": "markdown",
   "metadata": {
    "id": "M8NAIGbLTJlh"
   },
   "source": [
    "HCA has drawbacks include:\n",
    "\n",
    "1. Vagueness in terms of the termination criteria (that is, when to finalize the number of clusters)\n",
    "2. The algorithm cannot adjust once the clustering decisions have been made\n",
    "3. Can be very computationally expensive to build HCA models on large datasets with many features"
   ]
  },
  {
   "cell_type": "markdown",
   "metadata": {
    "id": "YTXdsMw7TJlh"
   },
   "source": [
    "To address some of the HCA shortcomings,  use k-means, which has the ability to adjust when the clusters have been initially generated. It is more computationally frugal than HCA."
   ]
  },
  {
   "cell_type": "markdown",
   "metadata": {
    "id": "92yCQHJ6TJlh"
   },
   "source": [
    "    10. Compute Silhouette score to measure how close observations within a cluster and plot the results.  ( 2 points)"
   ]
  },
  {
   "cell_type": "code",
   "execution_count": 35,
   "metadata": {},
   "outputs": [
    {
     "name": "stdout",
     "output_type": "stream",
     "text": [
      "Silhouette Score: 0.2211039487521177\n"
     ]
    }
   ],
   "source": [
    "from scipy.cluster.hierarchy import linkage, fcluster\n",
    "# Choose the number of clusters (you can use different methods to determine this)\n",
    "num_clusters = 7  # Adjust as needed\n",
    "\n",
    "# Assign cluster labels\n",
    "cluster_labels = fcluster(linkage_matrix, num_clusters, criterion='maxclust')\n",
    "\n",
    "# Calculate silhouette score\n",
    "silhouette_avg = silhouette_score(df_zscored, cluster_labels)\n",
    "\n",
    "print(f\"Silhouette Score: {silhouette_avg}\")"
   ]
  },
  {
   "cell_type": "code",
   "execution_count": 51,
   "metadata": {
    "id": "qUJTsoXoTJlh"
   },
   "outputs": [
    {
     "name": "stdout",
     "output_type": "stream",
     "text": [
      "Number of clusters: 2, Silhouette Score: 54.2782%\n",
      "Number of clusters: 3, Silhouette Score: 43.4993%\n",
      "Number of clusters: 4, Silhouette Score: 42.9072%\n",
      "Number of clusters: 5, Silhouette Score: 40.2622%\n",
      "Number of clusters: 6, Silhouette Score: 32.2543%\n",
      "Number of clusters: 7, Silhouette Score: 22.1104%\n",
      "Number of clusters: 8, Silhouette Score: 21.0618%\n",
      "Number of clusters: 9, Silhouette Score: 21.0276%\n",
      "Number of clusters: 10, Silhouette Score: 22.1348%\n",
      "Optimal number of cluster:  2\n"
     ]
    }
   ],
   "source": [
    "silhouette_scores = []\n",
    "for num_clusters in range(2, 11):\n",
    "    cluster_labels = fcluster(linkage_matrix, num_clusters, criterion='maxclust')\n",
    "    silhouette_avg = silhouette_score(df_zscored, cluster_labels)\n",
    "    silhouette_scores.append(silhouette_avg)\n",
    "    print(f'Number of clusters: {num_clusters}, Silhouette Score: {silhouette_avg:.4%}')\n",
    "    \n",
    "# Choose the number of clusters with the highest Silhouette score\n",
    "optimal_num_clusters = silhouette_scores.index(max(silhouette_scores)) + 2  # Add 2 because we started from 2 clusters\n",
    "\n",
    "# Assign clusters based on the optimal number\n",
    "optimal_cluster_labels = fcluster(linkage_matrix, optimal_num_clusters, criterion='maxclust')\n",
    "\n",
    "print(\"Optimal number of cluster: \", optimal_num_clusters)"
   ]
  },
  {
   "cell_type": "code",
   "execution_count": 52,
   "metadata": {},
   "outputs": [
    {
     "data": {
      "image/png": "[encoded data removed]",
      "text/plain": [
       "<Figure size 1000x500 with 1 Axes>"
      ]
     },
     "metadata": {},
     "output_type": "display_data"
    }
   ],
   "source": [
    "\n",
    "# Plot Silhouette scores for different numbers of clusters\n",
    "plt.figure(figsize=(10, 5))\n",
    "plt.plot(range(2, 11), silhouette_scores, marker='o')\n",
    "plt.title('Silhouette Score for Different Numbers of Clusters')\n",
    "plt.xlabel('Number of Clusters')\n",
    "plt.ylabel('Silhouette Score')\n",
    "plt.show()"
   ]
  },
  {
   "cell_type": "code",
   "execution_count": 53,
   "metadata": {},
   "outputs": [
    {
     "data": {
      "image/png": "[encoded data removed]",
      "text/plain": [
       "<Figure size 1200x600 with 1 Axes>"
      ]
     },
     "metadata": {},
     "output_type": "display_data"
    }
   ],
   "source": [
    "# Plot the dendrogram with optimal clusters\n",
    "plt.figure(figsize=(12, 6))\n",
    "dendrogram(linkage_matrix, labels=df_zscored.index, leaf_rotation=90, leaf_font_size=8, color_threshold=linkage_matrix[-optimal_num_clusters + 1, 2])\n",
    "plt.title(f'Hierarchical Clustering Dendrogram with {optimal_num_clusters} Clusters')\n",
    "plt.xlabel('Observation Index')\n",
    "plt.ylabel('Distance')\n",
    "plt.show()"
   ]
  },
  {
   "cell_type": "markdown",
   "metadata": {
    "id": "uIsocozQTJli"
   },
   "source": [
    "    11. apply k-Means Clustering for Optimal Number of Clusters  ( 1 point)"
   ]
  },
  {
   "cell_type": "code",
   "execution_count": 60,
   "metadata": {
    "id": "afke5WjeTJli"
   },
   "outputs": [
    {
     "name": "stdout",
     "output_type": "stream",
     "text": [
      "Number of clusters: 2, Silhouette Score: 40.6424%\n",
      "Number of clusters: 3, Silhouette Score: 42.5590%\n",
      "Number of clusters: 4, Silhouette Score: 39.4708%\n",
      "Number of clusters: 5, Silhouette Score: 38.5711%\n",
      "Number of clusters: 6, Silhouette Score: 41.7757%\n",
      "Number of clusters: 7, Silhouette Score: 43.1995%\n",
      "Number of clusters: 8, Silhouette Score: 41.2105%\n",
      "Number of clusters: 9, Silhouette Score: 41.2632%\n",
      "Number of clusters: 10, Silhouette Score: 38.3336%\n",
      "Optimal Number of Clusters: 7\n"
     ]
    }
   ],
   "source": [
    "# Store silhouette scores for each number of clusters\n",
    "silhouette_scores = []\n",
    "\n",
    "# Iterate over different numbers of clusters\n",
    "for num_clusters in range(2, 11):\n",
    "    # Fit k-Means clustering\n",
    "    kmeans = KMeans(n_clusters=num_clusters, random_state=42)\n",
    "    cluster_labels = kmeans.fit_predict(df_zscored)\n",
    "    \n",
    "    # Compute silhouette score\n",
    "    silhouette_avg = silhouette_score(df_zscored, cluster_labels)\n",
    "    silhouette_scores.append(silhouette_avg)\n",
    "    \n",
    "    # Optionally, print the silhouette score for each cluster\n",
    "    print(f'Number of clusters: {num_clusters}, Silhouette Score: {silhouette_avg:.4%}')\n",
    "\n",
    "# Choose the optimal number of clusters based on the maximum silhouette score\n",
    "optimal_num_clusters = silhouette_scores.index(max(silhouette_scores)) + 2\n",
    "print(f'Optimal Number of Clusters: {optimal_num_clusters}')\n"
   ]
  },
  {
   "cell_type": "markdown",
   "metadata": {
    "id": "1sja8CzITJli"
   },
   "source": [
    "    12. print the number of glasses that fall within each of clusters. ( 2 points)"
   ]
  },
  {
   "cell_type": "code",
   "execution_count": 62,
   "metadata": {
    "id": "6GSV9dnFTJli"
   },
   "outputs": [
    {
     "name": "stdout",
     "output_type": "stream",
     "text": [
      "Cluster 1: 76 glasses\n",
      "Cluster 7: 34 glasses\n",
      "Cluster 4: 27 glasses\n",
      "Cluster 2: 22 glasses\n",
      "Cluster 3: 21 glasses\n",
      "Cluster 9: 21 glasses\n",
      "Cluster 6: 7 glasses\n",
      "Cluster 10: 6 glasses\n",
      "Cluster 8: 3 glasses\n",
      "Cluster 5: 1 glasses\n"
     ]
    }
   ],
   "source": [
    "cluster_counts = pd.Series(cluster_labels).value_counts()\n",
    "for cluster, count in cluster_counts.items():\n",
    "    print(f\"Cluster {cluster + 1}: {count} glasses\")"
   ]
  },
  {
   "cell_type": "markdown",
   "metadata": {
    "id": "nCyMOuT5TJli"
   },
   "source": [
    "    13. Using PCA to Transform Group-Related Features into Components  ( 1 point)"
   ]
  },
  {
   "cell_type": "code",
   "execution_count": 70,
   "metadata": {
    "id": "4sAeG9oDTJli"
   },
   "outputs": [],
   "source": [
    "# Apply PCA\n",
    "pca = PCA()\n",
    "df_zscored_pca = pca.fit_transform(df_zscored)\n"
   ]
  },
  {
   "cell_type": "markdown",
   "metadata": {
    "id": "KLBrxqhNTJli"
   },
   "source": [
    "    14. Get proportion of explained variance in each component ( 2 points)"
   ]
  },
  {
   "cell_type": "code",
   "execution_count": 71,
   "metadata": {
    "id": "58I5SMoeTJli"
   },
   "outputs": [
    {
     "name": "stdout",
     "output_type": "stream",
     "text": [
      "Explained Variance for PC1: 35.31%\n",
      "Explained Variance for PC2: 25.05%\n",
      "Explained Variance for PC3: 12.52%\n",
      "Explained Variance for PC4: 9.69%\n",
      "Explained Variance for PC5: 9.26%\n",
      "Explained Variance for PC6: 4.63%\n",
      "Explained Variance for PC7: 2.77%\n",
      "Explained Variance for PC8: 0.74%\n",
      "Explained Variance for PC9: 0.01%\n"
     ]
    }
   ],
   "source": [
    "explained_variance_ratio = pca.explained_variance_ratio_\n",
    "for i, variance_ratio in enumerate(explained_variance_ratio):\n",
    "    print(f\"Explained Variance for PC{i + 1}: {variance_ratio:.2%}\")\n",
    "   "
   ]
  },
  {
   "cell_type": "markdown",
   "metadata": {
    "id": "w4zo7bOdTJli"
   },
   "source": [
    "    15. Get the cumulative sum of explained variance by each component and plot the result.  ( 2 points)"
   ]
  },
  {
   "cell_type": "code",
   "execution_count": 76,
   "metadata": {
    "id": "FMaCFti7TJli"
   },
   "outputs": [
    {
     "data": {
      "image/png": "[encoded data removed]",
      "text/plain": [
       "<Figure size 1000x500 with 1 Axes>"
      ]
     },
     "metadata": {},
     "output_type": "display_data"
    },
    {
     "name": "stdout",
     "output_type": "stream",
     "text": [
      "[0.35314362 0.60367619 0.72892091 0.82585676 0.91850472 0.96476788\n",
      " 0.99251777 0.99989022 1.        ]\n"
     ]
    }
   ],
   "source": [
    "cumulative_explained_variance = explained_variance_ratio.cumsum()\n",
    "\n",
    "plt.figure(figsize=(10, 5))\n",
    "plt.plot(range(1, len(cumulative_explained_variance) + 1), cumulative_explained_variance, marker='o', linestyle='-', color='b')\n",
    "plt.title(\"Cumulative Explained Variance by Component\")\n",
    "plt.xlabel(\"Number of Components\")\n",
    "plt.ylabel(\"Cumulative Explained Variance\")\n",
    "plt.grid()\n",
    "plt.show()\n",
    "\n",
    "print(cumulative_explained_variance)"
   ]
  },
  {
   "cell_type": "markdown",
   "metadata": {
    "id": "r-jp1uRdTJlj"
   },
   "source": [
    "    16. Fit the PCA model with the best number of components ( 2 points)"
   ]
  },
  {
   "cell_type": "code",
   "execution_count": 78,
   "metadata": {
    "id": "_mx7VSHJTJlj"
   },
   "outputs": [],
   "source": [
    "pca = PCA(n_components=5)\n",
    "pca_components = pca.fit_transform(df_zscored)"
   ]
  },
  {
   "cell_type": "markdown",
   "metadata": {
    "id": "QY-EvKM4TJlj"
   },
   "source": [
    "    17. Plot the first and second components ( 2 points)"
   ]
  },
  {
   "cell_type": "code",
   "execution_count": 79,
   "metadata": {
    "id": "5fImbM03TJlj"
   },
   "outputs": [
    {
     "data": {
      "image/png": "[encoded data removed]",
      "text/plain": [
       "<Figure size 800x600 with 1 Axes>"
      ]
     },
     "metadata": {},
     "output_type": "display_data"
    }
   ],
   "source": [
    "plt.figure(figsize=(8, 6))\n",
    "plt.scatter(pca_components[:, 0], pca_components[:, 1], alpha=0.6)\n",
    "plt.title(\"PCA: First and Second Components\")\n",
    "plt.xlabel(\"First Component\")\n",
    "plt.ylabel(\"Second Component\")\n",
    "plt.grid()\n",
    "plt.show()"
   ]
  },
  {
   "cell_type": "code",
   "execution_count": null,
   "metadata": {},
   "outputs": [],
   "source": []
  }
 ],
 "metadata": {
  "colab": {
   "provenance": []
  },
  "kernelspec": {
   "display_name": "Python 3 (ipykernel)",
   "language": "python",
   "name": "python3"
  },
  "language_info": {
   "codemirror_mode": {
    "name": "ipython",
    "version": 3
   },
   "file_extension": ".py",
   "mimetype": "text/x-python",
   "name": "python",
   "nbconvert_exporter": "python",
   "pygments_lexer": "ipython3",
   "version": "3.11.5"
  },
  "vscode": {
   "interpreter": {
    "hash": "9be90a182e443121e767cfcadea61fa0eeced8ec62a9bd8ae9861f6c1d839655"
   }
  }
 },
 "nbformat": 4,
 "nbformat_minor": 1
}
